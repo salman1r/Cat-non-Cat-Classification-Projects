{
 "cells": [
  {
   "cell_type": "markdown",
   "id": "59ad060f",
   "metadata": {},
   "source": [
    "# Cat image classification with 4 layers Neural network with Logistic Regression Relu activation function \n"
   ]
  },
  {
   "cell_type": "markdown",
   "id": "ca6717cc",
   "metadata": {},
   "source": [
    "### Import important libraries"
   ]
  },
  {
   "cell_type": "code",
   "execution_count": 1,
   "id": "85dec8a6",
   "metadata": {},
   "outputs": [],
   "source": [
    "import time\n",
    "import numpy as np\n",
    "import h5py\n",
    "import matplotlib.pyplot as plt\n",
    "import scipy\n",
    "from PIL import Image\n",
    "from scipy import ndimage\n",
    "\n",
    "\n",
    "%matplotlib inline\n",
    "plt.rcParams['figure.figsize'] = (5.0, 4.0) \n",
    "plt.rcParams['image.interpolation'] = 'nearest'\n",
    "plt.rcParams['image.cmap'] = 'gray'\n",
    "\n",
    "%load_ext autoreload\n",
    "%autoreload 2\n",
    "\n",
    "np.random.seed(1)\n",
    "\n"
   ]
  },
  {
   "cell_type": "markdown",
   "id": "1055981c",
   "metadata": {},
   "source": [
    "### Function for loading dataset"
   ]
  },
  {
   "cell_type": "code",
   "execution_count": 2,
   "id": "f311a231",
   "metadata": {},
   "outputs": [],
   "source": [
    "def load_data():\n",
    "    train_dataset = h5py.File('train_catvnoncat.h5', \"r\")\n",
    "    train_set_xo = np.array(train_dataset[\"train_set_x\"][:]) \n",
    "    train_set_y = np.array(train_dataset[\"train_set_y\"][:]) \n",
    "\n",
    "    test_dataset = h5py.File('test_catvnoncat.h5', \"r\")\n",
    "    test_set_xo = np.array(test_dataset[\"test_set_x\"][:]) \n",
    "    test_set_y = np.array(test_dataset[\"test_set_y\"][:]) \n",
    "\n",
    "    classes = np.array(test_dataset[\"list_classes\"][:])\n",
    "    \n",
    "    train_set_y = train_set_y.reshape((1, train_set_y.shape[0]))\n",
    "    test_set_y = test_set_y.reshape((1, test_set_y.shape[0]))\n",
    "    \n",
    "    \n",
    "    return train_set_xo, train_set_y, test_set_xo, test_set_y, classes"
   ]
  },
  {
   "cell_type": "markdown",
   "id": "c04505a3",
   "metadata": {},
   "source": [
    "### Load Dataset"
   ]
  },
  {
   "cell_type": "code",
   "execution_count": 3,
   "id": "1829fb32",
   "metadata": {},
   "outputs": [],
   "source": [
    "train_xo, train_y, test_xo, test_y, classes = load_data()"
   ]
  },
  {
   "cell_type": "markdown",
   "id": "35a775f7",
   "metadata": {},
   "source": [
    "### Check index and class"
   ]
  },
  {
   "cell_type": "code",
   "execution_count": 4,
   "id": "ae7a8a37",
   "metadata": {},
   "outputs": [
    {
     "name": "stdout",
     "output_type": "stream",
     "text": [
      "y = 0. It's a non-cat picture.\n"
     ]
    },
    {
     "data": {
      "image/png": "[encoded data removed]",
      "text/plain": [
       "<Figure size 360x288 with 1 Axes>"
      ]
     },
     "metadata": {
      "needs_background": "light"
     },
     "output_type": "display_data"
    }
   ],
   "source": [
    "index = 10\n",
    "plt.imshow(train_xo[index])\n",
    "print (\"y = \" + str(train_y[0,index]) + \". It's a \" + classes[train_y[0,index]].decode(\"utf-8\") +  \" picture.\")"
   ]
  },
  {
   "cell_type": "code",
   "execution_count": 5,
   "id": "2bef84a7",
   "metadata": {},
   "outputs": [
    {
     "data": {
      "text/plain": [
       "(50, 64, 64, 3)"
      ]
     },
     "execution_count": 5,
     "metadata": {},
     "output_type": "execute_result"
    }
   ],
   "source": [
    "test_xo.shape"
   ]
  },
  {
   "cell_type": "markdown",
   "id": "564929d4",
   "metadata": {},
   "source": [
    "### Information about our dataset"
   ]
  },
  {
   "cell_type": "code",
   "execution_count": 6,
   "id": "7a554968",
   "metadata": {},
   "outputs": [
    {
     "name": "stdout",
     "output_type": "stream",
     "text": [
      "Number of training examples: 209\n",
      "Number of testing examples : 50\n",
      "Each image is of size: ( 64, 64, 3)\n",
      "train_x shape: (209, 64, 64, 3)\n",
      "train_y shape: (1, 209)\n",
      "test_x shape : (50, 64, 64, 3)\n",
      "test_y shape : (1, 50)\n"
     ]
    }
   ],
   "source": [
    "m_train = train_xo.shape[0]\n",
    "num_px = train_xo.shape[1]\n",
    "m_test = test_xo.shape[0]\n",
    "\n",
    "print (\"Number of training examples: \" + str(m_train))\n",
    "print (\"Number of testing examples : \" + str(m_test))\n",
    "print (\"Each image is of size: ( \"+ str(num_px) + \", \" + str(num_px) + \", 3)\")\n",
    "print (\"train_x shape: \" + str(train_xo.shape))\n",
    "print (\"train_y shape: \" + str(train_y.shape))\n",
    "print (\"test_x shape : \" + str(test_xo.shape))\n",
    "print (\"test_y shape : \" + str(test_y.shape))"
   ]
  },
  {
   "cell_type": "markdown",
   "id": "2dec6373",
   "metadata": {},
   "source": [
    "### Flatten the dimensions and standardize them "
   ]
  },
  {
   "cell_type": "code",
   "execution_count": 7,
   "id": "4655f56f",
   "metadata": {},
   "outputs": [
    {
     "name": "stdout",
     "output_type": "stream",
     "text": [
      "train_x's shape: (12288, 209)\n",
      "test_x's shape: (12288, 50)\n"
     ]
    }
   ],
   "source": [
    "\n",
    "train_x_flatten = train_xo.reshape(train_xo.shape[0], -1).T   # The \"-1\" makes reshape flatten the remaining dimensions\n",
    "test_x_flatten = test_xo.reshape(test_xo.shape[0], -1).T\n",
    "\n",
    "# Standardize data to have feature values between 0 and 1.\n",
    "train_x = train_x_flatten/255.\n",
    "test_x = test_x_flatten/255.\n",
    "\n",
    "print (\"train_x's shape: \" + str(train_x.shape))\n",
    "print (\"test_x's shape: \" + str(test_x.shape))\n"
   ]
  },
  {
   "cell_type": "markdown",
   "id": "0aaf89e7",
   "metadata": {},
   "source": [
    "### Sigmoid Function and its derivative"
   ]
  },
  {
   "cell_type": "code",
   "execution_count": 8,
   "id": "f127757e",
   "metadata": {},
   "outputs": [],
   "source": [
    "def sigmoid(Z):\n",
    "    A = 1/(1+np.exp(-Z))\n",
    "    cache = Z\n",
    "    \n",
    "    return A, cache\n",
    "\n",
    "def sigmoid_backward(dA, cache):\n",
    "    Z = cache\n",
    "    s = 1/(1+np.exp(-Z))\n",
    "    dZ = dA * s * (1-s)\n",
    "    assert (dZ.shape == Z.shape)\n",
    "    \n",
    "    return dZ"
   ]
  },
  {
   "cell_type": "markdown",
   "id": "8cdb99d7",
   "metadata": {},
   "source": [
    "### Relu Function and its derivative"
   ]
  },
  {
   "cell_type": "code",
   "execution_count": 9,
   "id": "23d532c4",
   "metadata": {},
   "outputs": [],
   "source": [
    "def relu(Z):\n",
    "    A = np.maximum(0,Z)\n",
    "    \n",
    "    assert(A.shape == Z.shape)\n",
    "    \n",
    "    cache = Z \n",
    "    return A, cache\n",
    "\n",
    "def relu_backward(dA, cache):\n",
    "    Z = cache\n",
    "    dZ = np.array(dA, copy=True)\n",
    "    dZ[Z <= 0] = 0\n",
    "    \n",
    "    assert (dZ.shape == Z.shape)\n",
    "    \n",
    "    return dZ\n",
    "\n"
   ]
  },
  {
   "cell_type": "markdown",
   "id": "7213c976",
   "metadata": {},
   "source": [
    "### Initialization of parameters"
   ]
  },
  {
   "cell_type": "code",
   "execution_count": 10,
   "id": "a92a4b25",
   "metadata": {},
   "outputs": [],
   "source": [
    "def initialize_parameters_deep(layer_dims):\n",
    "    np.random.seed(1)\n",
    "    parameters = {}\n",
    "    L = len(layer_dims)           \n",
    "\n",
    "    for l in range(1, L):\n",
    "        parameters['W' + str(l)] = np.random.randn(layer_dims[l], layer_dims[l-1]) / np.sqrt(layer_dims[l-1])\n",
    "        parameters['b' + str(l)] = np.zeros((layer_dims[l], 1))\n",
    "        #print((parameters['W' + str(l)]).shape)\n",
    "        \n",
    "        assert(parameters['W' + str(l)].shape == (layer_dims[l], layer_dims[l-1]))\n",
    "        assert(parameters['b' + str(l)].shape == (layer_dims[l], 1))\n",
    "\n",
    "        \n",
    "    return parameters"
   ]
  },
  {
   "cell_type": "code",
   "execution_count": 11,
   "id": "0e6fb331",
   "metadata": {},
   "outputs": [],
   "source": [
    "#initialize_parameters_deep([12288, 20, 7, 5, 1])\n"
   ]
  },
  {
   "cell_type": "markdown",
   "id": "817886e8",
   "metadata": {},
   "source": [
    "## Model for forward propagation"
   ]
  },
  {
   "cell_type": "markdown",
   "id": "5837ec3f",
   "metadata": {},
   "source": [
    "### Function for linear computaion"
   ]
  },
  {
   "cell_type": "code",
   "execution_count": 12,
   "id": "9f9d11fc",
   "metadata": {},
   "outputs": [],
   "source": [
    "def linear_forward(A, W, b):\n",
    "    Z = np.dot(W, A) + b\n",
    "    assert(Z.shape == (W.shape[0], A.shape[1]))\n",
    "    cache = (A, W, b)\n",
    "    \n",
    "    return Z, cache"
   ]
  },
  {
   "cell_type": "markdown",
   "id": "21f676ba",
   "metadata": {},
   "source": [
    "### Function for computing Activation"
   ]
  },
  {
   "cell_type": "code",
   "execution_count": 13,
   "id": "edef6e2e",
   "metadata": {},
   "outputs": [],
   "source": [
    "def linear_activation_forward(A_prev, W, b, activation):\n",
    "    \n",
    "    Z, linear_cache = linear_forward(A_prev, W, b)\n",
    "    \n",
    "    if activation == \"sigmoid\":\n",
    "        A, activation_cache = sigmoid(Z)\n",
    "    \n",
    "    elif activation == \"relu\":\n",
    "        A, activation_cache = relu(Z)\n",
    "    \n",
    "    assert (A.shape == (W.shape[0], A_prev.shape[1]))\n",
    "    cache = (linear_cache, activation_cache)\n",
    "\n",
    "    return A, cache"
   ]
  },
  {
   "cell_type": "markdown",
   "id": "e2dcb16b",
   "metadata": {},
   "source": [
    "### Function for forward model"
   ]
  },
  {
   "cell_type": "code",
   "execution_count": 14,
   "id": "7b61a4ec",
   "metadata": {},
   "outputs": [],
   "source": [
    "def L_model_forward(X, parameters):\n",
    "   \n",
    "    caches = []\n",
    "    A = X\n",
    "    L = len(parameters)//2 \n",
    "    #print(\"Number of layers:\"+str(L))\n",
    "    for l in range(1, L):\n",
    "        A_prev = A\n",
    "        #print(A.shape)\n",
    "        A, cache = linear_activation_forward(A_prev, \n",
    "                                             parameters['W' + str(l)], \n",
    "                                             parameters['b' + str(l)], \n",
    "                                             activation='relu')\n",
    "        caches.append(cache)\n",
    "    AL, cache = linear_activation_forward(A,\n",
    "                                          parameters['W' + str(L)], \n",
    "                                          parameters['b' + str(L)], \n",
    "                                          activation='sigmoid')\n",
    "    caches.append(cache)\n",
    "   # print(caches)\n",
    "    assert(AL.shape == (1,X.shape[1]))\n",
    "            \n",
    "    return AL, caches"
   ]
  },
  {
   "cell_type": "markdown",
   "id": "62f214e1",
   "metadata": {},
   "source": [
    "### Function for computing cost"
   ]
  },
  {
   "cell_type": "code",
   "execution_count": 15,
   "id": "57df212a",
   "metadata": {},
   "outputs": [],
   "source": [
    "def compute_cost(AL, Y):\n",
    "    m = Y.shape[1]\n",
    "    cost = (-1 / m) * np.sum(np.multiply(Y, np.log(AL)) + np.multiply(1 - Y, np.log(1 - AL)))\n",
    "    cost = np.squeeze(cost) \n",
    "    #print(cost.shape)\n",
    "    assert(cost.shape == ())\n",
    "    return cost"
   ]
  },
  {
   "cell_type": "markdown",
   "id": "cc27470e",
   "metadata": {},
   "source": [
    "## Model for backward propagation"
   ]
  },
  {
   "cell_type": "markdown",
   "id": "26335cb2",
   "metadata": {},
   "source": [
    "### Function for linear computaion"
   ]
  },
  {
   "cell_type": "code",
   "execution_count": 16,
   "id": "49a0ffce",
   "metadata": {},
   "outputs": [],
   "source": [
    "def linear_backward(dZ, cache):\n",
    "    A_prev, W, b = cache\n",
    "    m = A_prev.shape[1]\n",
    "    #dW =(1. /m)*np.dot(dZ, cache[0].T)\n",
    "    dW =(1. /m)*np.dot(dZ, A_prev.T)\n",
    "    db =(1. /m)*(np.sum(dZ, axis=1, keepdims=True))\n",
    "    dA_prev = np.dot(cache[1].T, dZ)\n",
    "    \n",
    "    assert (dA_prev.shape == A_prev.shape)\n",
    "    assert (dW.shape == W.shape)\n",
    "    assert (db.shape == b.shape)\n",
    "    \n",
    "    return dA_prev, dW, db"
   ]
  },
  {
   "cell_type": "markdown",
   "id": "7862302c",
   "metadata": {},
   "source": [
    "### Function for computing Activation"
   ]
  },
  {
   "cell_type": "code",
   "execution_count": 17,
   "id": "e286f988",
   "metadata": {},
   "outputs": [],
   "source": [
    "def linear_activation_backward(dA, cache, activation):\n",
    "    linear_cache, activation_cache = cache\n",
    "    \n",
    "    if activation == \"relu\":\n",
    "\n",
    "        dZ = relu_backward(dA, activation_cache)\n",
    "        dA_prev, dW, db = linear_backward(dZ, linear_cache)\n",
    "        \n",
    "    elif activation == \"sigmoid\":\n",
    "    \n",
    "        dZ = sigmoid_backward(dA, activation_cache)\n",
    "        dA_prev, dW, db = linear_backward(dZ, linear_cache)\n",
    "        \n",
    "    \n",
    "    return dA_prev, dW, db"
   ]
  },
  {
   "cell_type": "markdown",
   "id": "b7294759",
   "metadata": {},
   "source": [
    "### Function for Backward propagation model"
   ]
  },
  {
   "cell_type": "code",
   "execution_count": 18,
   "id": "84303688",
   "metadata": {},
   "outputs": [],
   "source": [
    "def L_model_backward(AL, Y, caches):\n",
    "  \n",
    "    grads = {}\n",
    "    L = len(caches) \n",
    "    m = AL.shape[1]\n",
    "    Y = Y.reshape(AL.shape)  \n",
    "    dAL = -(np.divide(Y, AL) - np.divide(1 - Y, 1 - AL))\n",
    "    current_cache = caches[-1]\n",
    "    grads[\"dA\" + str(L)], grads[\"dW\" + str(L)], grads[\"db\" + str(L)] =  linear_activation_backward(dAL,current_cache, activation= \"sigmoid\")\n",
    "    for l in reversed(range(L-1)): \n",
    "        current_cache = caches[l]\n",
    "        dA_prev_temp, dW_temp, db_temp = linear_activation_backward( grads[\"dA\" + str(l + 2)],current_cache, activation=\"relu\")\n",
    "        grads[\"dA\" + str(l + 1)] = dA_prev_temp\n",
    "        grads[\"dW\" + str(l + 1)] = dW_temp\n",
    "        grads[\"db\" + str(l + 1)] = db_temp\n",
    "\n",
    "    return grads"
   ]
  },
  {
   "cell_type": "markdown",
   "id": "786b4d99",
   "metadata": {},
   "source": [
    "### Update Parameter"
   ]
  },
  {
   "cell_type": "code",
   "execution_count": 19,
   "id": "a120fe7c",
   "metadata": {},
   "outputs": [],
   "source": [
    "def update_parameters(parameters, grads, learning_rate):\n",
    "    \n",
    "    L = len(parameters) // 2 \n",
    "    for l in range(L):\n",
    "        parameters[\"W\" + str(l + 1)] = parameters[\"W\" + str(l + 1)] - learning_rate * grads[\"dW\" + str(l + 1)]\n",
    "        parameters[\"b\" + str(l + 1)] = parameters[\"b\" + str(l + 1)] - learning_rate * grads[\"db\" + str(l + 1)]\n",
    "    \n",
    "    return parameters"
   ]
  },
  {
   "cell_type": "code",
   "execution_count": 20,
   "id": "21b63c5e",
   "metadata": {},
   "outputs": [],
   "source": [
    "layers_dims = [12288, 20, 7, 5, 1]"
   ]
  },
  {
   "cell_type": "code",
   "execution_count": 21,
   "id": "771596b7",
   "metadata": {},
   "outputs": [],
   "source": [
    "def L_layer_model(X, Y, layers_dims, learning_rate = 0.009, num_iterations = 3000, print_cost=False):\n",
    "   \n",
    "    np.random.seed(1)\n",
    "    costs = []             \n",
    "    parameters = initialize_parameters_deep(layers_dims)\n",
    "\n",
    "    for i in range(0, num_iterations):\n",
    "        AL, caches = L_model_forward(X, parameters)\n",
    "        cost = compute_cost(AL, Y)\n",
    "        grads = L_model_backward(AL, Y, caches)\n",
    "        \n",
    "        parameters = update_parameters(parameters, grads, learning_rate)\n",
    "       \n",
    "        if print_cost and i % 100 == 0:\n",
    "            print (\"Cost after iteration %i: %f\" %(i, cost))\n",
    "        if print_cost and i % 100 == 0:\n",
    "            costs.append(cost)\n",
    "            \n",
    "    plt.plot(np.squeeze(costs))\n",
    "    plt.ylabel('cost')\n",
    "    plt.xlabel('iterations (per hundreds)')\n",
    "    plt.title(\"Learning rate =\" + str(learning_rate))\n",
    "    plt.show()\n",
    "    \n",
    "    return parameters, costs\n",
    "\n",
    "\n"
   ]
  },
  {
   "cell_type": "code",
   "execution_count": 22,
   "id": "613175e5",
   "metadata": {},
   "outputs": [
    {
     "name": "stdout",
     "output_type": "stream",
     "text": [
      "Cost after iteration 0: 0.771749\n",
      "Cost after iteration 100: 0.672053\n",
      "Cost after iteration 200: 0.648263\n",
      "Cost after iteration 300: 0.611507\n",
      "Cost after iteration 400: 0.567047\n",
      "Cost after iteration 500: 0.540138\n",
      "Cost after iteration 600: 0.527930\n",
      "Cost after iteration 700: 0.465477\n",
      "Cost after iteration 800: 0.369126\n",
      "Cost after iteration 900: 0.391747\n"
     ]
    },
    {
     "data": {
      "image/png": "[encoded data removed]",
      "text/plain": [
       "<Figure size 360x288 with 1 Axes>"
      ]
     },
     "metadata": {
      "needs_background": "light"
     },
     "output_type": "display_data"
    }
   ],
   "source": [
    "parameters, costs = L_layer_model(train_x, train_y, layers_dims,  learning_rate = 0.0075,num_iterations = 1000, print_cost = True)"
   ]
  },
  {
   "cell_type": "markdown",
   "id": "810da952",
   "metadata": {},
   "source": [
    "### Function Prediction "
   ]
  },
  {
   "cell_type": "code",
   "execution_count": 23,
   "id": "48f36f16",
   "metadata": {},
   "outputs": [],
   "source": [
    "def predict(X,y, parameters):\n",
    "    \n",
    "    m = X.shape[1]\n",
    "    p = np.zeros((1,m))\n",
    "\n",
    "    Y, caches = L_model_forward(X, parameters)\n",
    "    \n",
    "    for i in range(0, Y.shape[1]):\n",
    "        if Y[0,i] > 0.5:\n",
    "            p[0,i] = 1\n",
    "        else:\n",
    "            p[0,i] = 0\n",
    "    return Y"
   ]
  },
  {
   "cell_type": "code",
   "execution_count": 24,
   "id": "d047cc9a",
   "metadata": {},
   "outputs": [],
   "source": [
    "p_train = predict(train_x, train_y, parameters)\n",
    "p_test = predict(test_x, test_y,  parameters).astype(int)"
   ]
  },
  {
   "cell_type": "code",
   "execution_count": 25,
   "id": "0e8242be",
   "metadata": {},
   "outputs": [
    {
     "name": "stdout",
     "output_type": "stream",
     "text": [
      "train accuracy: 74.36116438980218 %\n",
      "test accuracy: 34.0 %\n"
     ]
    }
   ],
   "source": [
    "print(\"train accuracy: {} %\".format(100 - np.mean(np.abs(p_train - train_y)) * 100))\n",
    "print(\"test accuracy: {} %\".format(100 - np.mean(np.abs(p_test - test_y)) * 100))"
   ]
  },
  {
   "cell_type": "markdown",
   "id": "b4f94876",
   "metadata": {},
   "source": [
    "### Test this model with test data"
   ]
  },
  {
   "cell_type": "code",
   "execution_count": 26,
   "id": "cfd0c056",
   "metadata": {},
   "outputs": [
    {
     "name": "stdout",
     "output_type": "stream",
     "text": [
      "y = [1], it's a 'non-cat' picture.\n"
     ]
    },
    {
     "data": {
      "image/png": "[encoded data removed]",
      "text/plain": [
       "<Figure size 360x288 with 1 Axes>"
      ]
     },
     "metadata": {
      "needs_background": "light"
     },
     "output_type": "display_data"
    }
   ],
   "source": [
    "index = 10\n",
    "plt.imshow(test_xo[index])\n",
    "print (\"y = \" + str(test_y[:, index]) + \", it's a '\" + classes[np.squeeze(p_test[:, index])].decode(\"utf-8\") +  \"' picture.\")"
   ]
  },
  {
   "cell_type": "markdown",
   "id": "a3d77829",
   "metadata": {},
   "source": [
    "### Test the model with the image taken from internet"
   ]
  },
  {
   "cell_type": "code",
   "execution_count": 27,
   "id": "84785898",
   "metadata": {},
   "outputs": [
    {
     "name": "stdout",
     "output_type": "stream",
     "text": [
      "original size :  (2720, 4106, 3)\n",
      "new size:  (64, 64, 3)\n",
      "y = 0.5472741068959106, your L-layer model predicts a \"non-cat\" picture.\n"
     ]
    },
    {
     "data": {
      "text/plain": [
       "<matplotlib.image.AxesImage at 0x1dfdbe9d850>"
      ]
     },
     "execution_count": 27,
     "metadata": {},
     "output_type": "execute_result"
    },
    {
     "data": {
      "image/png": "[encoded data removed]",
      "text/plain": [
       "<Figure size 360x288 with 1 Axes>"
      ]
     },
     "metadata": {
      "needs_background": "light"
     },
     "output_type": "display_data"
    }
   ],
   "source": [
    "from skimage.transform import  resize\n",
    "import imageio\n",
    "a = \"images/67586673.jpg\"\n",
    "#imageio.imsave('face.png', face) # First we need to create the PNG file\n",
    "\n",
    "a= imageio.imread(a)\n",
    "image = np.array(a)\n",
    "\n",
    "print(\"original size : \",image.shape)\n",
    "my_image=resize(image, (64, 64))\n",
    "my_label_y = [1] \n",
    "print(\"new size: \", my_image.shape)\n",
    "my_image = my_image.reshape((my_image.shape[0]*my_image.shape[1]*3,1))\n",
    "my_image.shape\n",
    "#my_image = my_image/255.\n",
    "my_predicted_image = predict(my_image, my_label_y, parameters) \n",
    "print (\"y = \" + str(np.squeeze(my_predicted_image)) + \", your L-layer model predicts a \\\"\" + classes[int(np.squeeze(my_predicted_image)),].decode(\"utf-8\") +  \"\\\" picture.\")\n",
    "plt.imshow(image)\n"
   ]
  },
  {
   "cell_type": "code",
   "execution_count": null,
   "id": "6d392bfa",
   "metadata": {},
   "outputs": [],
   "source": []
  },
  {
   "cell_type": "code",
   "execution_count": null,
   "id": "9119dfab",
   "metadata": {},
   "outputs": [],
   "source": []
  },
  {
   "cell_type": "code",
   "execution_count": null,
   "id": "3a585db9",
   "metadata": {},
   "outputs": [],
   "source": []
  }
 ],
 "metadata": {
  "kernelspec": {
   "display_name": "Python 3",
   "language": "python",
   "name": "python3"
  },
  "language_info": {
   "codemirror_mode": {
    "name": "ipython",
    "version": 3
   },
   "file_extension": ".py",
   "mimetype": "text/x-python",
   "name": "python",
   "nbconvert_exporter": "python",
   "pygments_lexer": "ipython3",
   "version": "3.8.8"
  }
 },
 "nbformat": 4,
 "nbformat_minor": 5
}
